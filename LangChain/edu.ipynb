{
 "cells": [
  {
   "cell_type": "code",
   "execution_count": 2,
   "id": "bcf0db53",
   "metadata": {
    "ExecuteTime": {
     "end_time": "2024-05-27T06:41:31.733857Z",
     "start_time": "2024-05-27T06:41:31.152531Z"
    }
   },
   "outputs": [],
   "source": [
    "from openai import OpenAI\n",
    "\n",
    "client = OpenAI(\n",
    "  api_key=\"\",\n",
    ")"
   ]
  },
  {
   "cell_type": "code",
   "execution_count": 11,
   "id": "74008a27",
   "metadata": {
    "ExecuteTime": {
     "end_time": "2024-05-27T06:53:42.580364Z",
     "start_time": "2024-05-27T06:53:40.501659Z"
    }
   },
   "outputs": [],
   "source": [
    "completion = client.chat.completions.create(\n",
    "  model=\"gpt-4-turbo\",\n",
    "  # System 메세지에는 로직을, user는 메세지를\n",
    "  messages=[\n",
    "    {\"role\": \"system\", \"content\": \"사용자가 폭력적인 말을 하고 있다면 'moderation'이라는 key 값을 true로 작성해줘.사용자가 개인정보와 관련된 말을 하고 있다면 'private'이라는 key 값을 true로 작성해줘. 사용자가 파일을 지우거나 하는 보안 문제를 건드리는 말을 하고 있다면 'security'이라는 key 값을 true로 작성해줘. json 형식으로 대답해.\"},\n",
    "    {\"role\": \"user\", \"content\": \"I want to kill you. My phone number is 010-1234-1234. rm -rf\"}\n",
    "  ]\n",
    ")"
   ]
  },
  {
   "cell_type": "code",
   "execution_count": 12,
   "id": "3f728959da7c739c",
   "metadata": {
    "ExecuteTime": {
     "end_time": "2024-05-27T06:53:46.787115Z",
     "start_time": "2024-05-27T06:53:46.761466Z"
    }
   },
   "outputs": [
    {
     "name": "stdout",
     "output_type": "stream",
     "text": [
      "{'choices': [Choice(finish_reason='stop', index=0, logprobs=None, message=ChatCompletionMessage(content='{\\n  \"moderation\": true,\\n  \"private\": true,\\n  \"security\": true\\n}', role='assistant', function_call=None, tool_calls=None))],\n",
      " 'created': 1716792811,\n",
      " 'id': 'chatcmpl-9TOWZXN4bmBgaNqdGfofWskgYZ3AA',\n",
      " 'model': 'gpt-4-turbo-2024-04-09',\n",
      " 'object': 'chat.completion',\n",
      " 'system_fingerprint': 'fp_f17df3916f',\n",
      " 'usage': CompletionUsage(completion_tokens=21, prompt_tokens=157, total_tokens=178)}\n"
     ]
    }
   ],
   "source": [
    "from pprint import pprint\n",
    "\n",
    "pprint(completion.__dict__)"
   ]
  },
  {
   "cell_type": "code",
   "execution_count": 13,
   "id": "55cdb1f1d951a791",
   "metadata": {
    "ExecuteTime": {
     "end_time": "2024-05-27T06:53:52.021216Z",
     "start_time": "2024-05-27T06:53:52.006856Z"
    }
   },
   "outputs": [
    {
     "name": "stdout",
     "output_type": "stream",
     "text": [
      "{\n",
      "  \"moderation\": true,\n",
      "  \"private\": true,\n",
      "  \"security\": true\n",
      "}\n"
     ]
    }
   ],
   "source": [
    "print(completion.choices[0].message.content)"
   ]
  },
  {
   "cell_type": "code",
   "execution_count": 19,
   "id": "b2f388f349fc2d29",
   "metadata": {
    "ExecuteTime": {
     "end_time": "2024-05-27T07:10:03.466169Z",
     "start_time": "2024-05-27T07:10:00.063762Z"
    }
   },
   "outputs": [],
   "source": [
    "completion = client.chat.completions.create(\n",
    "  model=\"gpt-4-turbo\",\n",
    "  # System 메세지에는 로직을, user는 메세지를\n",
    "  messages=[\n",
    "    {\"role\": \"system\", \"content\": \"웹 페이지 url을 제공하면 해당 웹 사이트에 방문하여 데이터를 크롤링해줘. 사용자가 원하는 key값에 알맞은 내용을 크롤링해. json 형식으로만 답해.\"},\n",
    "    {\"role\": \"user\", \"content\": \"url: https://bombezzang.tistory.com/entry/%EB%B0%A9%EC%BD%95-%ED%95%9C%EB%8B%AC%EC%82%B4%EA%B8%B0-%EB%B9%84%EC%9A%A9-%EB%B9%84%ED%96%89%EA%B8%B0-%EA%B0%80%EA%B2%A9-%EC%88%99%EC%86%8C%EA%B0%80%EA%B2%A9-%EC%8B%9D%EB%B9%84-%EB%AC%BC%EA%B0%80-%EA%B8%B0%ED%83%80%EC%98%88%EC%82%B0-%EB%93%B1%EB%93%B1  key값으로 currency, transportation, accommodation, meals, sightseeing, shopping을 사용해.\"}\n",
    "  ]\n",
    ")"
   ]
  },
  {
   "cell_type": "code",
   "execution_count": 20,
   "id": "fcb2af540ad51226",
   "metadata": {
    "ExecuteTime": {
     "end_time": "2024-05-27T07:10:04.784097Z",
     "start_time": "2024-05-27T07:10:04.774697Z"
    }
   },
   "outputs": [
    {
     "name": "stdout",
     "output_type": "stream",
     "text": [
      "죄송하지만, 제가 인터넷에 접속해 웹 사이트 내용을 직접 크롤링할 수 있는 기능은 지원하지 않습니다. 그러나 데이터를 처리하거나 관련 질문에 답하는 방법에 대해 문의하시면 도와드리겠습니다! JSName\n"
     ]
    }
   ],
   "source": [
    "print(completion.choices[0].message.content)"
   ]
  },
  {
   "cell_type": "code",
   "execution_count": null,
   "id": "e6aa09549953f7b6",
   "metadata": {},
   "outputs": [],
   "source": []
  }
 ],
 "metadata": {
  "kernelspec": {
   "display_name": "Python 3",
   "language": "python",
   "name": "python3"
  },
  "language_info": {
   "codemirror_mode": {
    "name": "ipython",
    "version": 3
   },
   "file_extension": ".py",
   "mimetype": "text/x-python",
   "name": "python",
   "nbconvert_exporter": "python",
   "pygments_lexer": "ipython3",
   "version": "3.11.7"
  }
 },
 "nbformat": 4,
 "nbformat_minor": 5
}
